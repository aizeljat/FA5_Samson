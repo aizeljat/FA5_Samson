{
 "cells": [
  {
   "cell_type": "code",
   "execution_count": 1,
   "id": "8858f85f",
   "metadata": {},
   "outputs": [
    {
     "name": "stdout",
     "output_type": "stream",
     "text": [
      "    A   B     C\n",
      "0   9   9   9.0\n",
      "1   9  12  10.5\n",
      "2   9  15  12.0\n",
      "3  12   9  10.5\n",
      "4  12  12  12.0\n",
      "5  12  15  13.5\n",
      "6  15   9  12.0\n",
      "7  15  12  13.5\n",
      "8  15  15  15.0\n",
      "      D         E         F     G\n",
      "0   9.0  0.111111  1.000000   9.0\n",
      "1  10.5  0.222222  2.333333  24.5\n",
      "2  12.0  0.333333  4.000000  48.0\n",
      "3  13.5  0.222222  3.000000  40.5\n",
      "4  15.0  0.111111  1.666667  25.0\n"
     ]
    }
   ],
   "source": [
    "import pandas as pd\n",
    "\n",
    "#8.18\n",
    "data = {\n",
    "    'A': [9,9,9,12,12,12,15,15,15],\n",
    "    'B': [9,12,15,9,12,15,9,12,15]\n",
    "}\n",
    "df = pd.DataFrame(data)\n",
    "\n",
    "#creating mean column\n",
    "df['C'] = df.mean(axis = 1)\n",
    "\n",
    "#creating mean tables\n",
    "mean_data ={\n",
    "    \n",
    "}\n",
    "\n",
    "df_mean =  pd.DataFrame(mean_data)\n",
    "\n",
    "df_mean['D'] = (9,10.5,12,13.5,15)\n",
    "\n",
    "df_mean['E'] = [(1/9),(2/9),(3/9),(2/9),(1/9)]\n",
    "\n",
    "df_mean['F'] = (df_mean['D']*df_mean['E'])\n",
    "F_sum = df_mean['F'].sum()\n",
    "\n",
    "df_mean['G'] = (df_mean['D']**2 )*(df_mean['E'])\n",
    "G_sum = df_mean['G'].sum()\n",
    "\n",
    "print(df)\n",
    "print(df_mean)"
   ]
  },
  {
   "cell_type": "code",
   "execution_count": 3,
   "id": "614ca601",
   "metadata": {},
   "outputs": [
    {
     "name": "stdout",
     "output_type": "stream",
     "text": [
      "Population Mean: 9.0\n",
      "Population Standard Deviation: 4.47213595499958\n",
      "Mean of Sampling Distribution: 9.0\n",
      "Standard Deviation of Sampling Distribution: 3.162277660168379\n"
     ]
    }
   ],
   "source": [
    "import numpy as np\n",
    "\n",
    "#8.21\n",
    "# Define the population\n",
    "population = np.array([3, 7, 11, 15])\n",
    "\n",
    "# mean\n",
    "population_mean = np.mean(population)\n",
    "print(\"Population Mean:\", population_mean)\n",
    "\n",
    "# standard deviation \n",
    "population_std_dev = np.std(population)\n",
    "print(\"Population Standard Deviation:\", population_std_dev)\n",
    "\n",
    "sample_size = 2\n",
    "\n",
    "# mean of the sampling distribution of means \n",
    "mean_sampling_distribution = population_mean\n",
    "print(\"Mean of Sampling Distribution:\", mean_sampling_distribution)\n",
    "\n",
    "# standard deviation of the sampling distribution of means \n",
    "std_dev_sampling_distribution = population_std_dev / np.sqrt(sample_size)\n",
    "print(\"Standard Deviation of Sampling Distribution:\", std_dev_sampling_distribution)"
   ]
  },
  {
   "cell_type": "code",
   "execution_count": 4,
   "id": "658015e8",
   "metadata": {},
   "outputs": [
    {
     "name": "stdout",
     "output_type": "stream",
     "text": [
      "Probability less than 40% will be boys: 0.002842577998375153\n",
      "Probability between 43% and 57% will be girls: 0.9440342595057354\n",
      "Probability more than 54% will be boys: 0.11462329862985787\n"
     ]
    }
   ],
   "source": [
    "import scipy.stats as stats\n",
    "\n",
    "#8.34\n",
    "p_boy = 0.5\n",
    "\n",
    "# Total number of children born\n",
    "n_children = 200\n",
    "\n",
    "# Less than 40% will be boys\n",
    "p_less_than_40_percent = stats.binom.cdf(0.40 * n_children, n_children, p_boy)\n",
    "\n",
    "# Between 43% and 57% will be girls\n",
    "p_between_43_and_57_percent = (\n",
    "    stats.binom.cdf(0.57 * n_children, n_children, p_boy) -\n",
    "    stats.binom.cdf(0.43 * n_children, n_children, p_boy)\n",
    ")\n",
    "\n",
    "# More than 54% will be boys\n",
    "p_more_than_54_percent = 1 - stats.binom.cdf(0.54 * n_children, n_children, p_boy)\n",
    "\n",
    "# Print the results\n",
    "print(\"Probability less than 40% will be boys:\", p_less_than_40_percent)\n",
    "print(\"Probability between 43% and 57% will be girls:\", p_between_43_and_57_percent)\n",
    "print(\"Probability more than 54% will be boys:\", p_more_than_54_percent)"
   ]
  },
  {
   "cell_type": "code",
   "execution_count": 5,
   "id": "1f10840c",
   "metadata": {},
   "outputs": [
    {
     "name": "stdout",
     "output_type": "stream",
     "text": [
      "Population Mean (µ): 12.000000000000002\n",
      "Population Variance (σ^2): 10.8\n",
      "Sample 1: (6, 6), Mean: 6.00, Probability: 0.0100\n",
      "Sample 2: (6, 9), Mean: 7.50, Probability: 0.0200\n",
      "Sample 3: (6, 12), Mean: 9.00, Probability: 0.0400\n",
      "Sample 4: (6, 15), Mean: 10.50, Probability: 0.0200\n",
      "Sample 5: (6, 18), Mean: 12.00, Probability: 0.0100\n",
      "Sample 6: (9, 6), Mean: 7.50, Probability: 0.0200\n",
      "Sample 7: (9, 9), Mean: 9.00, Probability: 0.0400\n",
      "Sample 8: (9, 12), Mean: 10.50, Probability: 0.0800\n",
      "Sample 9: (9, 15), Mean: 12.00, Probability: 0.0400\n",
      "Sample 10: (9, 18), Mean: 13.50, Probability: 0.0200\n",
      "Sample 11: (12, 6), Mean: 9.00, Probability: 0.0400\n",
      "Sample 12: (12, 9), Mean: 10.50, Probability: 0.0800\n",
      "Sample 13: (12, 12), Mean: 12.00, Probability: 0.1600\n",
      "Sample 14: (12, 15), Mean: 13.50, Probability: 0.0800\n",
      "Sample 15: (12, 18), Mean: 15.00, Probability: 0.0400\n",
      "Sample 16: (15, 6), Mean: 10.50, Probability: 0.0200\n",
      "Sample 17: (15, 9), Mean: 12.00, Probability: 0.0400\n",
      "Sample 18: (15, 12), Mean: 13.50, Probability: 0.0800\n",
      "Sample 19: (15, 15), Mean: 15.00, Probability: 0.0400\n",
      "Sample 20: (15, 18), Mean: 16.50, Probability: 0.0200\n",
      "Sample 21: (18, 6), Mean: 12.00, Probability: 0.0100\n",
      "Sample 22: (18, 9), Mean: 13.50, Probability: 0.0200\n",
      "Sample 23: (18, 12), Mean: 15.00, Probability: 0.0400\n",
      "Sample 24: (18, 15), Mean: 16.50, Probability: 0.0200\n",
      "Sample 25: (18, 18), Mean: 18.00, Probability: 0.0100\n"
     ]
    }
   ],
   "source": [
    "import itertools\n",
    "\n",
    "#8.49\n",
    "# Define the credit hour distribution\n",
    "credit_hours = [6, 9, 12, 15, 18]\n",
    "probabilities = [0.1, 0.2, 0.4, 0.2, 0.1]\n",
    "\n",
    "# Calculate the population mean (µ)\n",
    "population_mean = sum(x * p for x, p in zip(credit_hours, probabilities))\n",
    "print(\"Population Mean (µ):\", population_mean)\n",
    "\n",
    "# Calculate the population variance (σ^2)\n",
    "population_variance = sum((x - population_mean) ** 2 * p for x, p in zip(credit_hours, probabilities))\n",
    "print(\"Population Variance (σ^2):\", population_variance)\n",
    "\n",
    "# Generate all possible samples of size 2 with replacement\n",
    "sample_size = 2\n",
    "samples = list(itertools.product(credit_hours, repeat=sample_size))\n",
    "\n",
    "# Calculate the means and probabilities for each sample\n",
    "sample_means = [sum(sample) / sample_size for sample in samples]\n",
    "sample_probabilities = [p1 * p2 for p1, p2 in itertools.product(probabilities, repeat=sample_size)]\n",
    "\n",
    "# Display the 25 possible samples, their means, and their probabilities\n",
    "for i in range(len(samples)):\n",
    "    print(f\"Sample {i+1}: {samples[i]}, Mean: {sample_means[i]:.2f}, Probability: {sample_probabilities[i]:.4f}\")\n"
   ]
  },
  {
   "cell_type": "code",
   "execution_count": null,
   "id": "45fa8778",
   "metadata": {},
   "outputs": [],
   "source": []
  }
 ],
 "metadata": {
  "kernelspec": {
   "display_name": "Python 3 (ipykernel)",
   "language": "python",
   "name": "python3"
  },
  "language_info": {
   "codemirror_mode": {
    "name": "ipython",
    "version": 3
   },
   "file_extension": ".py",
   "mimetype": "text/x-python",
   "name": "python",
   "nbconvert_exporter": "python",
   "pygments_lexer": "ipython3",
   "version": "3.11.4"
  }
 },
 "nbformat": 4,
 "nbformat_minor": 5
}
